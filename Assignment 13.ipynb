{
 "cells": [
  {
   "cell_type": "code",
   "execution_count": 9,
   "metadata": {},
   "outputs": [
    {
     "name": "stdout",
     "output_type": "stream",
     "text": [
      "Enter numbers: 100,150,180\n",
      "18 22 24 "
     ]
    }
   ],
   "source": [
    "#Question1\n",
    "import math\n",
    "D=map(int,input(\"Enter numbers: \").strip().split(','))\n",
    "C=50\n",
    "H=30\n",
    "for i in D:\n",
    "    Q=math.sqrt(2*C*i/H)\n",
    "    print(int(Q),end=' ')"
   ]
  },
  {
   "cell_type": "code",
   "execution_count": 5,
   "metadata": {},
   "outputs": [
    {
     "name": "stdout",
     "output_type": "stream",
     "text": [
      "Enter a number: 3\n",
      "Enter a number: 5\n",
      "[[0, 0, 0, 0, 0], [0, 1, 2, 3, 4], [0, 2, 4, 6, 8]]\n"
     ]
    }
   ],
   "source": [
    "#Question2\n",
    "X=int(input(\"Enter a number: \"))\n",
    "Y=int(input(\"Enter a number: \")) \n",
    "matrix = []\n",
    "\n",
    "for i in range(0,X):\n",
    "\n",
    "# Append an empty sublist inside the list\n",
    "    matrix.append([])\n",
    "\n",
    "    for j in range(0,Y):\n",
    "        matrix[i].append(i*j)\n",
    "print(matrix)"
   ]
  },
  {
   "cell_type": "code",
   "execution_count": 17,
   "metadata": {},
   "outputs": [
    {
     "name": "stdout",
     "output_type": "stream",
     "text": [
      "Enter a number: 3\n",
      "Enter a number: 5\n",
      "[[0, 0, 0, 0, 0], [0, 1, 2, 3, 4], [0, 2, 4, 6, 8]]\n"
     ]
    }
   ],
   "source": [
    "#Ques2(another approach)\n",
    "X=int(input(\"Enter a number: \"))\n",
    "Y=int(input(\"Enter a number: \"))\n",
    "i=range(0,X)\n",
    "j=range(0,Y)\n",
    "matrix = [[i*j for j in range(0,Y) ] for i in range(0,X)]\n",
    "print(matrix)"
   ]
  },
  {
   "cell_type": "code",
   "execution_count": 8,
   "metadata": {},
   "outputs": [
    {
     "name": "stdout",
     "output_type": "stream",
     "text": [
      "Enter words: without,hello,bag,world\n",
      "bag,hello,without,world\n"
     ]
    }
   ],
   "source": [
    "#Ques3\n",
    "words=input(\"Enter words: \").split(',')\n",
    "l=list(words)\n",
    "l.sort()\n",
    "print(','.join(l))"
   ]
  },
  {
   "cell_type": "code",
   "execution_count": 6,
   "metadata": {},
   "outputs": [
    {
     "name": "stdout",
     "output_type": "stream",
     "text": [
      "Enter words: hello world and practice makes perfect and hello world again\n",
      "again and hello makes perfect practice world "
     ]
    }
   ],
   "source": [
    "#Ques4\n",
    "words2=input(\"Enter words: \").split(' ')\n",
    "l2=[]\n",
    "for i in words2:\n",
    "    if i not in l2:\n",
    "        l2.append(i)\n",
    "l2.sort()\n",
    "for i in l2:\n",
    "    print(i,end=' ')"
   ]
  },
  {
   "cell_type": "code",
   "execution_count": 13,
   "metadata": {},
   "outputs": [
    {
     "name": "stdout",
     "output_type": "stream",
     "text": [
      "Enter sentence: hello world! 123\n",
      "DIGITS: 3\n",
      "LETTERS: 10\n"
     ]
    }
   ],
   "source": [
    "#Ques5\n",
    "w=input(\"Enter sentence: \")\n",
    "count1=0\n",
    "count2=0\n",
    "for i in w:\n",
    "        if i.isdigit():\n",
    "            count1+=1\n",
    "        if i.isalpha():\n",
    "            count2+=1\n",
    "print(\"DIGITS:\",count1)\n",
    "print(\"LETTERS:\",count2)"
   ]
  },
  {
   "cell_type": "code",
   "execution_count": 5,
   "metadata": {},
   "outputs": [
    {
     "name": "stdout",
     "output_type": "stream",
     "text": [
      "Enter password: ABd1234@1,a F1#,2w3E*,2We3345\n",
      "ABd1234@1\n"
     ]
    }
   ],
   "source": [
    "#Ques6\n",
    "password=input(\"Enter password: \").split(',')\n",
    "l,u,d,p=0,0,0,0\n",
    "for i in password:\n",
    "    if len(i)>=6:\n",
    "        for j in i:\n",
    "            if(j.islower()):\n",
    "                l+=1\n",
    "            if(j.isupper()):\n",
    "                u+=1\n",
    "            if(j.isdigit()):\n",
    "                d+=1\n",
    "            if (j=='@' or j=='#' or j=='$'):\n",
    "                p+=1\n",
    "        if (l>=1 and u>=1 and p>=1 and d>=1 and l+p+u+d==len(i)):\n",
    "            print(i)\n",
    "        \n",
    "            \n",
    "            \n",
    "        "
   ]
  },
  {
   "cell_type": "code",
   "execution_count": null,
   "metadata": {},
   "outputs": [],
   "source": []
  }
 ],
 "metadata": {
  "kernelspec": {
   "display_name": "Python 3",
   "language": "python",
   "name": "python3"
  },
  "language_info": {
   "codemirror_mode": {
    "name": "ipython",
    "version": 3
   },
   "file_extension": ".py",
   "mimetype": "text/x-python",
   "name": "python",
   "nbconvert_exporter": "python",
   "pygments_lexer": "ipython3",
   "version": "3.8.5"
  }
 },
 "nbformat": 4,
 "nbformat_minor": 4
}
